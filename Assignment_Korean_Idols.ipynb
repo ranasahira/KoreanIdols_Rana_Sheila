{
 "cells": [
  {
   "cell_type": "markdown",
   "id": "ebfafeae-d804-4a76-8545-798ddf3f1aa4",
   "metadata": {},
   "source": [
    "# IMPORT PACKAGES"
   ]
  },
  {
   "cell_type": "code",
   "execution_count": 1,
   "id": "86110754-257e-4e23-a023-27a8b7f2e614",
   "metadata": {},
   "outputs": [],
   "source": [
    "import pandas as pd\n",
    "import numpy as np\n",
    "import json\n",
    "import requests"
   ]
  },
  {
   "cell_type": "markdown",
   "id": "4f4f390d-1d9b-4731-aaf1-4fc411dc18d6",
   "metadata": {},
   "source": [
    "# IMPORT DATA API (KOREAN IDOLS)"
   ]
  },
  {
   "cell_type": "code",
   "execution_count": 2,
   "id": "0b32c934-24ba-4956-b7a8-1410ccd9b1d3",
   "metadata": {},
   "outputs": [
    {
     "data": {
      "text/html": [
       "<div>\n",
       "<style scoped>\n",
       "    .dataframe tbody tr th:only-of-type {\n",
       "        vertical-align: middle;\n",
       "    }\n",
       "\n",
       "    .dataframe tbody tr th {\n",
       "        vertical-align: top;\n",
       "    }\n",
       "\n",
       "    .dataframe thead th {\n",
       "        text-align: right;\n",
       "    }\n",
       "</style>\n",
       "<table border=\"1\" class=\"dataframe\">\n",
       "  <thead>\n",
       "    <tr style=\"text-align: right;\">\n",
       "      <th></th>\n",
       "      <th>Stage Name</th>\n",
       "      <th>Full Name</th>\n",
       "      <th>Birth</th>\n",
       "    </tr>\n",
       "  </thead>\n",
       "  <tbody>\n",
       "    <tr>\n",
       "      <th>0</th>\n",
       "      <td>IU</td>\n",
       "      <td>Lee Jieun</td>\n",
       "      <td>1993-05-16</td>\n",
       "    </tr>\n",
       "    <tr>\n",
       "      <th>1</th>\n",
       "      <td>Jennie</td>\n",
       "      <td>Kim Jennie</td>\n",
       "      <td>1996-01-16</td>\n",
       "    </tr>\n",
       "    <tr>\n",
       "      <th>2</th>\n",
       "      <td>Lisa</td>\n",
       "      <td>Pranpriya Manoban</td>\n",
       "      <td>1997-03-27</td>\n",
       "    </tr>\n",
       "    <tr>\n",
       "      <th>3</th>\n",
       "      <td>Jihyo</td>\n",
       "      <td>Park Jisoo</td>\n",
       "      <td>1997-02-01</td>\n",
       "    </tr>\n",
       "    <tr>\n",
       "      <th>4</th>\n",
       "      <td>Sana</td>\n",
       "      <td>Minatozaki Sana</td>\n",
       "      <td>1996-12-29</td>\n",
       "    </tr>\n",
       "    <tr>\n",
       "      <th>5</th>\n",
       "      <td>Tzuyu</td>\n",
       "      <td>Chou Tzuyu</td>\n",
       "      <td>1999-06-14</td>\n",
       "    </tr>\n",
       "    <tr>\n",
       "      <th>6</th>\n",
       "      <td>Dahyun</td>\n",
       "      <td>Kim Dahyun</td>\n",
       "      <td>1998-05-28</td>\n",
       "    </tr>\n",
       "    <tr>\n",
       "      <th>7</th>\n",
       "      <td>Bom</td>\n",
       "      <td>Park Bom</td>\n",
       "      <td>1984-03-24</td>\n",
       "    </tr>\n",
       "    <tr>\n",
       "      <th>8</th>\n",
       "      <td>Jungkook</td>\n",
       "      <td>Jeon Jungkook</td>\n",
       "      <td>1997-09-01</td>\n",
       "    </tr>\n",
       "    <tr>\n",
       "      <th>9</th>\n",
       "      <td>V</td>\n",
       "      <td>Kim Taehyung</td>\n",
       "      <td>1995-12-30</td>\n",
       "    </tr>\n",
       "  </tbody>\n",
       "</table>\n",
       "</div>"
      ],
      "text/plain": [
       "  Stage Name          Full Name       Birth\n",
       "0         IU          Lee Jieun  1993-05-16\n",
       "1     Jennie         Kim Jennie  1996-01-16\n",
       "2       Lisa  Pranpriya Manoban  1997-03-27\n",
       "3      Jihyo         Park Jisoo  1997-02-01\n",
       "4       Sana    Minatozaki Sana  1996-12-29\n",
       "5      Tzuyu         Chou Tzuyu  1999-06-14\n",
       "6     Dahyun         Kim Dahyun  1998-05-28\n",
       "7        Bom           Park Bom  1984-03-24\n",
       "8   Jungkook      Jeon Jungkook  1997-09-01\n",
       "9          V       Kim Taehyung  1995-12-30"
      ]
     },
     "execution_count": 2,
     "metadata": {},
     "output_type": "execute_result"
    }
   ],
   "source": [
    "data=pd.read_csv(\"korean_idols.csv\")\n",
    "data"
   ]
  },
  {
   "cell_type": "code",
   "execution_count": null,
   "id": "819cc4e5-189b-4bb9-b59d-83c2b891fc89",
   "metadata": {},
   "outputs": [],
   "source": []
  }
 ],
 "metadata": {
  "kernelspec": {
   "display_name": "Python 3",
   "language": "python",
   "name": "python3"
  },
  "language_info": {
   "codemirror_mode": {
    "name": "ipython",
    "version": 3
   },
   "file_extension": ".py",
   "mimetype": "text/x-python",
   "name": "python",
   "nbconvert_exporter": "python",
   "pygments_lexer": "ipython3",
   "version": "3.8.10"
  }
 },
 "nbformat": 4,
 "nbformat_minor": 5
}
